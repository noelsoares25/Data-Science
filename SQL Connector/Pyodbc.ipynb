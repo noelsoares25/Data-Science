{
 "cells": [
  {
   "cell_type": "code",
   "execution_count": 1,
   "id": "e7b4e090",
   "metadata": {},
   "outputs": [],
   "source": [
    "# pip install pyodbc"
   ]
  },
  {
   "cell_type": "code",
   "execution_count": 33,
   "id": "c6e612ca",
   "metadata": {},
   "outputs": [],
   "source": [
    "import pyodbc\n",
    "import pandas as pd"
   ]
  },
  {
   "cell_type": "code",
   "execution_count": 45,
   "id": "5532673c",
   "metadata": {},
   "outputs": [],
   "source": [
    "connection=pyodbc.connect(\"Driver={SQL Server};Server=DESKTOP-37PHUQ7\\SQLEXPRESS;Database=students\")\n",
    "# connection=pyodbc.connect(\"Driver={SQL Server};Server=DESKTOP-37PHUQ7\\SQLEXPRESS;Database=students\")\n",
    "cursor=connection.cursor()"
   ]
  },
  {
   "cell_type": "code",
   "execution_count": 43,
   "id": "4234aeae",
   "metadata": {},
   "outputs": [
    {
     "name": "stdout",
     "output_type": "stream",
     "text": [
      "('sujay Govekar', 'sujay@gmail.com', '0123', 7897894569, 'masters-degree')\n",
      "sujay Govekar 123456\n",
      "('Noel Soares', 'noelsoares@gmail.com', '123456', 9897969545, 'undergraduate')\n",
      "Noel Soares 123456\n"
     ]
    }
   ],
   "source": [
    "cursor.execute('SELECT [Name],[Email],[Password],[Phone_Number],[Course] FROM [dbo].[students_details]')\n",
    "data=[]\n",
    "while True:\n",
    "    row= cursor.fetchone()\n",
    "    if row is None:\n",
    "        break  # No more rows to fetch\n",
    "    print(row)\n",
    "#     for i in row()\n",
    "    name = row[0]\n",
    "    email = row[1]\n",
    "#     password = row[2]\n",
    "#     phone_number = row[3]\n",
    "#     course = row[4]\n",
    "    print(name,password)\n",
    "    \n",
    "# cursor.close()\n",
    "# connection.close()"
   ]
  },
  {
   "cell_type": "code",
   "execution_count": 46,
   "id": "29c99f7e",
   "metadata": {},
   "outputs": [
    {
     "data": {
      "text/html": [
       "<div>\n",
       "<style scoped>\n",
       "    .dataframe tbody tr th:only-of-type {\n",
       "        vertical-align: middle;\n",
       "    }\n",
       "\n",
       "    .dataframe tbody tr th {\n",
       "        vertical-align: top;\n",
       "    }\n",
       "\n",
       "    .dataframe thead th {\n",
       "        text-align: right;\n",
       "    }\n",
       "</style>\n",
       "<table border=\"1\" class=\"dataframe\">\n",
       "  <thead>\n",
       "    <tr style=\"text-align: right;\">\n",
       "      <th></th>\n",
       "      <th>Name</th>\n",
       "      <th>Email</th>\n",
       "      <th>Password</th>\n",
       "      <th>Phone_Number</th>\n",
       "      <th>Course</th>\n",
       "    </tr>\n",
       "  </thead>\n",
       "  <tbody>\n",
       "    <tr>\n",
       "      <th>0</th>\n",
       "      <td>sujay Govekar</td>\n",
       "      <td>sujay@gmail.com</td>\n",
       "      <td>0123</td>\n",
       "      <td>7897894569</td>\n",
       "      <td>masters-degree</td>\n",
       "    </tr>\n",
       "    <tr>\n",
       "      <th>1</th>\n",
       "      <td>Noel Soares</td>\n",
       "      <td>noelsoares@gmail.com</td>\n",
       "      <td>123456</td>\n",
       "      <td>9897969545</td>\n",
       "      <td>undergraduate</td>\n",
       "    </tr>\n",
       "  </tbody>\n",
       "</table>\n",
       "</div>"
      ],
      "text/plain": [
       "            Name                 Email Password  Phone_Number          Course\n",
       "0  sujay Govekar       sujay@gmail.com     0123    7897894569  masters-degree\n",
       "1    Noel Soares  noelsoares@gmail.com   123456    9897969545   undergraduate"
      ]
     },
     "execution_count": 46,
     "metadata": {},
     "output_type": "execute_result"
    }
   ],
   "source": [
    "query = 'SELECT [Name],[Email],[Password],[Phone_Number],[Course] FROM [dbo].[students_details]'\n",
    "df=pd.read_sql(query,connection)\n",
    "df.head()"
   ]
  },
  {
   "cell_type": "code",
   "execution_count": 48,
   "id": "a2467207",
   "metadata": {},
   "outputs": [],
   "source": [
    "cursor.close()\n",
    "connection.close()"
   ]
  },
  {
   "cell_type": "code",
   "execution_count": null,
   "id": "4db40e84",
   "metadata": {},
   "outputs": [],
   "source": []
  }
 ],
 "metadata": {
  "kernelspec": {
   "display_name": "Python 3 (ipykernel)",
   "language": "python",
   "name": "python3"
  },
  "language_info": {
   "codemirror_mode": {
    "name": "ipython",
    "version": 3
   },
   "file_extension": ".py",
   "mimetype": "text/x-python",
   "name": "python",
   "nbconvert_exporter": "python",
   "pygments_lexer": "ipython3",
   "version": "3.9.12"
  }
 },
 "nbformat": 4,
 "nbformat_minor": 5
}
